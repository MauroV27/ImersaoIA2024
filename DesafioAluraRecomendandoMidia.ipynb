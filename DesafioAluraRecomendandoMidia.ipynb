{
  "nbformat": 4,
  "nbformat_minor": 0,
  "metadata": {
    "colab": {
      "provenance": []
    },
    "kernelspec": {
      "name": "python3",
      "display_name": "Python 3"
    },
    "language_info": {
      "name": "python"
    }
  },
  "cells": [
    {
      "cell_type": "code",
      "execution_count": null,
      "metadata": {
        "id": "2puTsfGBGWEO"
      },
      "outputs": [],
      "source": [
        "# Instalando o modulo do gemini AI\n",
        "# -U -> Update\n",
        "!pip install -U -q google-generativeai"
      ]
    },
    {
      "cell_type": "code",
      "source": [
        "import json\n",
        "import pandas as pd\n",
        "import textwrap\n",
        "from IPython.display import display\n",
        "from IPython.display import Markdown"
      ],
      "metadata": {
        "id": "xFDY4NLvLS92"
      },
      "execution_count": 2,
      "outputs": []
    },
    {
      "cell_type": "code",
      "source": [
        "from google.colab import userdata\n",
        "import google.generativeai as genai\n",
        "\n",
        "API_KEY = userdata.get('GEMINI_API_KEY')\n",
        "genai.configure(api_key=API_KEY)"
      ],
      "metadata": {
        "id": "tg_dBC64GdyK"
      },
      "execution_count": 3,
      "outputs": []
    },
    {
      "cell_type": "code",
      "source": [
        "#Listando os modelos disponíveis\n",
        "for m in genai.list_models():\n",
        "  if 'generateContent' in m.supported_generation_methods:\n",
        "    print(m.name)"
      ],
      "metadata": {
        "colab": {
          "base_uri": "https://localhost:8080/",
          "height": 139
        },
        "id": "zb33dB00Gf1z",
        "outputId": "c1babd18-a99e-41d3-dd97-38a14b481e30"
      },
      "execution_count": 4,
      "outputs": [
        {
          "output_type": "stream",
          "name": "stdout",
          "text": [
            "models/gemini-1.0-pro\n",
            "models/gemini-1.0-pro-001\n",
            "models/gemini-1.0-pro-latest\n",
            "models/gemini-1.0-pro-vision-latest\n",
            "models/gemini-1.5-pro-latest\n",
            "models/gemini-pro\n",
            "models/gemini-pro-vision\n"
          ]
        }
      ]
    },
    {
      "cell_type": "code",
      "source": [
        "generation_config = {\n",
        "  \"candidate_count\": 1,\n",
        "  \"temperature\": 0.05, # Pelo modelo se comportar como uma API, optou-se por usar\n",
        "}"
      ],
      "metadata": {
        "id": "bZ5i2iOBGioc"
      },
      "execution_count": 5,
      "outputs": []
    },
    {
      "cell_type": "code",
      "source": [
        "safety_settings = [\n",
        "  {\n",
        "    \"category\": \"HARM_CATEGORY_HARASSMENT\",\n",
        "    \"threshold\": \"BLOCK_MEDIUM_AND_ABOVE\"\n",
        "  },\n",
        "  {\n",
        "    \"category\": \"HARM_CATEGORY_HATE_SPEECH\",\n",
        "    \"threshold\": \"BLOCK_MEDIUM_AND_ABOVE\"\n",
        "  },\n",
        "  {\n",
        "    \"category\": \"HARM_CATEGORY_SEXUALLY_EXPLICIT\",\n",
        "    \"threshold\": \"BLOCK_MEDIUM_AND_ABOVE\"\n",
        "  },\n",
        "  {\n",
        "    \"category\": \"HARM_CATEGORY_DANGEROUS_CONTENT\",\n",
        "    \"threshold\": \"BLOCK_MEDIUM_AND_ABOVE\"\n",
        "  },\n",
        "]"
      ],
      "metadata": {
        "id": "1DAY_cvYGkZ8"
      },
      "execution_count": 52,
      "outputs": []
    },
    {
      "cell_type": "code",
      "source": [
        "model = genai.GenerativeModel(model_name='gemini-1.0-pro',\n",
        "                                  generation_config=generation_config,\n",
        "                                  safety_settings=safety_settings)"
      ],
      "metadata": {
        "id": "xETf5nrWGmLN"
      },
      "execution_count": 53,
      "outputs": []
    },
    {
      "cell_type": "code",
      "source": [
        "examples = pd.DataFrame([\n",
        "    {\n",
        "        \"target_midia\" : \"Manga\",\n",
        "        \"reference\" : \"Oppenheimer (Filme)\",\n",
        "        \"num_resp\" : 2,\n",
        "        \"resultado\" : [{\n",
        "            \"titulo\": \"Pluton\",\n",
        "            \"autor\": \"Naoki Urasawa\",\n",
        "            \"genero\": \"Drama, Ficção Científica, História\",\n",
        "            \"sinopse\": \"Um jovem cientista alemão se junta ao projeto Manhattan para desenvolver a bomba atômica durante a Segunda Guerra Mundial.\",\n",
        "          },\n",
        "          {\n",
        "            \"titulo\": \"This is How I Kill Your King\",\n",
        "            \"autor\": \"Warren Ellis e Giannis Milonogiannis\",\n",
        "            \"genero\": \"Drama, Ficção Científica, Thriller\",\n",
        "            \"sinopse\": \"Um agente do governo americano investiga uma série de assassinatos que podem estar relacionados ao desenvolvimento da bomba atômica.\",\n",
        "          }]\n",
        "    }, {\n",
        "        \"target_midia\" : \"Serie\",\n",
        "        \"reference\" : \"O show de truman (Filme)\",\n",
        "        \"num_resp\" : 2,\n",
        "        \"resultado\" : [{\n",
        "            \"titulo\": \"Black Mirror\",\n",
        "            \"ano\": \"2011-2019\",\n",
        "            \"genero\": \"Ficção Científica, Drama\",\n",
        "            \"sinopse\": \"Uma série de antologia que explora o lado obscuro da tecnologia e seus impactos na sociedade.\",\n",
        "          },\n",
        "          {\n",
        "            \"titulo\": \"Westworld\",\n",
        "            \"ano\": \"2016-presente\",\n",
        "            \"genero\": \"Ficção Científica, Drama\",\n",
        "            \"sinopse\": \"Um parque temático futurista onde androides vivem em um mundo do Velho Oeste, mas as coisas começam a dar errado.\",\n",
        "          }]\n",
        "    }, {\n",
        "        \"target_midia\" : \"Filme\",\n",
        "        \"reference\" : \"Blame! (manga)\",\n",
        "        \"num_resp\" : 4,\n",
        "        \"resultado\" : [{\n",
        "            \"titulo\": \"Ghost in the Shell\",\n",
        "            \"ano\": \"1995\",\n",
        "            \"genero\": \"Ação, Ficção Científica\",\n",
        "            \"sinopse\": \"Um cyborg policial investiga um hacker que está implantando memórias falsas em pessoas.\"\n",
        "          },\n",
        "          {\n",
        "            \"titulo\": \"O Gigante de Ferro\",\n",
        "            \"ano\": \"1999\",\n",
        "            \"genero\": \"Animação, Aventura\",\n",
        "            \"sinopse\": \"Um menino faz amizade com um robô gigante que é caçado pelo governo.\"\n",
        "          },\n",
        "          {\n",
        "            \"titulo\": \"Akira\",\n",
        "            \"ano\": \"1988\",\n",
        "            \"genero\": \"Animação, Ação\",\n",
        "            \"sinopse\": \"Em uma Tóquio distópica, um jovem motociclista se envolve em uma conspiração governamental.\"\n",
        "          },\n",
        "          {\n",
        "            \"titulo\": \"Blade Runner 2049\",\n",
        "            \"ano\": \"2017\",\n",
        "            \"genero\": \"Ficção Científica, Thriller\",\n",
        "            \"sinopse\": \"Um policial replicante investiga o mistério de uma criança nascida de uma mãe humana.\"\n",
        "          }]\n",
        "    }, {\n",
        "        \"target_midia\" : \"Filme\",\n",
        "        \"reference\" : \"icjqicjpjcpj\",\n",
        "        \"num_resp\" : 2,\n",
        "        \"resultado\" : {\"error\": \"O elemento de referência não foi reconhecido, por favor tente novamente.\"},\n",
        "    }, {\n",
        "        \"target_midia\" : \"\",\n",
        "        \"reference\" : \"O lobo de Wallstreet\",\n",
        "        \"num_resp\" : 2,\n",
        "        \"resultado\" : {\"error\": \"Necessário passar um tipo de mídia valida como target, por favor tente novamente.\"},\n",
        "    }\n",
        "])\n",
        "\n",
        "examples"
      ],
      "metadata": {
        "colab": {
          "base_uri": "https://localhost:8080/",
          "height": 206
        },
        "id": "gPZScUDhIC39",
        "outputId": "af1dd5cf-2d5f-4772-d787-bc21e04aaaf2"
      },
      "execution_count": 54,
      "outputs": [
        {
          "output_type": "execute_result",
          "data": {
            "text/plain": [
              "  target_midia                 reference  num_resp  \\\n",
              "0        Manga       Oppenheimer (Filme)         2   \n",
              "1        Serie  O show de truman (Filme)         2   \n",
              "2        Filme            Blame! (manga)         4   \n",
              "3        Filme              icjqicjpjcpj         2   \n",
              "4                   O lobo de Wallstreet         2   \n",
              "\n",
              "                                           resultado  \n",
              "0  [{'titulo': 'Pluton', 'autor': 'Naoki Urasawa'...  \n",
              "1  [{'titulo': 'Black Mirror', 'ano': '2011-2019'...  \n",
              "2  [{'titulo': 'Ghost in the Shell', 'ano': '1995...  \n",
              "3  {'error': 'O elemento de referência não foi re...  \n",
              "4  {'error': 'Necessário passar um tipo de mídia ...  "
            ],
            "text/html": [
              "\n",
              "  <div id=\"df-e899a512-f328-4acc-a7eb-d62b8c5bb08f\" class=\"colab-df-container\">\n",
              "    <div>\n",
              "<style scoped>\n",
              "    .dataframe tbody tr th:only-of-type {\n",
              "        vertical-align: middle;\n",
              "    }\n",
              "\n",
              "    .dataframe tbody tr th {\n",
              "        vertical-align: top;\n",
              "    }\n",
              "\n",
              "    .dataframe thead th {\n",
              "        text-align: right;\n",
              "    }\n",
              "</style>\n",
              "<table border=\"1\" class=\"dataframe\">\n",
              "  <thead>\n",
              "    <tr style=\"text-align: right;\">\n",
              "      <th></th>\n",
              "      <th>target_midia</th>\n",
              "      <th>reference</th>\n",
              "      <th>num_resp</th>\n",
              "      <th>resultado</th>\n",
              "    </tr>\n",
              "  </thead>\n",
              "  <tbody>\n",
              "    <tr>\n",
              "      <th>0</th>\n",
              "      <td>Manga</td>\n",
              "      <td>Oppenheimer (Filme)</td>\n",
              "      <td>2</td>\n",
              "      <td>[{'titulo': 'Pluton', 'autor': 'Naoki Urasawa'...</td>\n",
              "    </tr>\n",
              "    <tr>\n",
              "      <th>1</th>\n",
              "      <td>Serie</td>\n",
              "      <td>O show de truman (Filme)</td>\n",
              "      <td>2</td>\n",
              "      <td>[{'titulo': 'Black Mirror', 'ano': '2011-2019'...</td>\n",
              "    </tr>\n",
              "    <tr>\n",
              "      <th>2</th>\n",
              "      <td>Filme</td>\n",
              "      <td>Blame! (manga)</td>\n",
              "      <td>4</td>\n",
              "      <td>[{'titulo': 'Ghost in the Shell', 'ano': '1995...</td>\n",
              "    </tr>\n",
              "    <tr>\n",
              "      <th>3</th>\n",
              "      <td>Filme</td>\n",
              "      <td>icjqicjpjcpj</td>\n",
              "      <td>2</td>\n",
              "      <td>{'error': 'O elemento de referência não foi re...</td>\n",
              "    </tr>\n",
              "    <tr>\n",
              "      <th>4</th>\n",
              "      <td></td>\n",
              "      <td>O lobo de Wallstreet</td>\n",
              "      <td>2</td>\n",
              "      <td>{'error': 'Necessário passar um tipo de mídia ...</td>\n",
              "    </tr>\n",
              "  </tbody>\n",
              "</table>\n",
              "</div>\n",
              "    <div class=\"colab-df-buttons\">\n",
              "\n",
              "  <div class=\"colab-df-container\">\n",
              "    <button class=\"colab-df-convert\" onclick=\"convertToInteractive('df-e899a512-f328-4acc-a7eb-d62b8c5bb08f')\"\n",
              "            title=\"Convert this dataframe to an interactive table.\"\n",
              "            style=\"display:none;\">\n",
              "\n",
              "  <svg xmlns=\"http://www.w3.org/2000/svg\" height=\"24px\" viewBox=\"0 -960 960 960\">\n",
              "    <path d=\"M120-120v-720h720v720H120Zm60-500h600v-160H180v160Zm220 220h160v-160H400v160Zm0 220h160v-160H400v160ZM180-400h160v-160H180v160Zm440 0h160v-160H620v160ZM180-180h160v-160H180v160Zm440 0h160v-160H620v160Z\"/>\n",
              "  </svg>\n",
              "    </button>\n",
              "\n",
              "  <style>\n",
              "    .colab-df-container {\n",
              "      display:flex;\n",
              "      gap: 12px;\n",
              "    }\n",
              "\n",
              "    .colab-df-convert {\n",
              "      background-color: #E8F0FE;\n",
              "      border: none;\n",
              "      border-radius: 50%;\n",
              "      cursor: pointer;\n",
              "      display: none;\n",
              "      fill: #1967D2;\n",
              "      height: 32px;\n",
              "      padding: 0 0 0 0;\n",
              "      width: 32px;\n",
              "    }\n",
              "\n",
              "    .colab-df-convert:hover {\n",
              "      background-color: #E2EBFA;\n",
              "      box-shadow: 0px 1px 2px rgba(60, 64, 67, 0.3), 0px 1px 3px 1px rgba(60, 64, 67, 0.15);\n",
              "      fill: #174EA6;\n",
              "    }\n",
              "\n",
              "    .colab-df-buttons div {\n",
              "      margin-bottom: 4px;\n",
              "    }\n",
              "\n",
              "    [theme=dark] .colab-df-convert {\n",
              "      background-color: #3B4455;\n",
              "      fill: #D2E3FC;\n",
              "    }\n",
              "\n",
              "    [theme=dark] .colab-df-convert:hover {\n",
              "      background-color: #434B5C;\n",
              "      box-shadow: 0px 1px 3px 1px rgba(0, 0, 0, 0.15);\n",
              "      filter: drop-shadow(0px 1px 2px rgba(0, 0, 0, 0.3));\n",
              "      fill: #FFFFFF;\n",
              "    }\n",
              "  </style>\n",
              "\n",
              "    <script>\n",
              "      const buttonEl =\n",
              "        document.querySelector('#df-e899a512-f328-4acc-a7eb-d62b8c5bb08f button.colab-df-convert');\n",
              "      buttonEl.style.display =\n",
              "        google.colab.kernel.accessAllowed ? 'block' : 'none';\n",
              "\n",
              "      async function convertToInteractive(key) {\n",
              "        const element = document.querySelector('#df-e899a512-f328-4acc-a7eb-d62b8c5bb08f');\n",
              "        const dataTable =\n",
              "          await google.colab.kernel.invokeFunction('convertToInteractive',\n",
              "                                                    [key], {});\n",
              "        if (!dataTable) return;\n",
              "\n",
              "        const docLinkHtml = 'Like what you see? Visit the ' +\n",
              "          '<a target=\"_blank\" href=https://colab.research.google.com/notebooks/data_table.ipynb>data table notebook</a>'\n",
              "          + ' to learn more about interactive tables.';\n",
              "        element.innerHTML = '';\n",
              "        dataTable['output_type'] = 'display_data';\n",
              "        await google.colab.output.renderOutput(dataTable, element);\n",
              "        const docLink = document.createElement('div');\n",
              "        docLink.innerHTML = docLinkHtml;\n",
              "        element.appendChild(docLink);\n",
              "      }\n",
              "    </script>\n",
              "  </div>\n",
              "\n",
              "\n",
              "<div id=\"df-22359bd5-41b5-4306-953c-f59c5050a9cf\">\n",
              "  <button class=\"colab-df-quickchart\" onclick=\"quickchart('df-22359bd5-41b5-4306-953c-f59c5050a9cf')\"\n",
              "            title=\"Suggest charts\"\n",
              "            style=\"display:none;\">\n",
              "\n",
              "<svg xmlns=\"http://www.w3.org/2000/svg\" height=\"24px\"viewBox=\"0 0 24 24\"\n",
              "     width=\"24px\">\n",
              "    <g>\n",
              "        <path d=\"M19 3H5c-1.1 0-2 .9-2 2v14c0 1.1.9 2 2 2h14c1.1 0 2-.9 2-2V5c0-1.1-.9-2-2-2zM9 17H7v-7h2v7zm4 0h-2V7h2v10zm4 0h-2v-4h2v4z\"/>\n",
              "    </g>\n",
              "</svg>\n",
              "  </button>\n",
              "\n",
              "<style>\n",
              "  .colab-df-quickchart {\n",
              "      --bg-color: #E8F0FE;\n",
              "      --fill-color: #1967D2;\n",
              "      --hover-bg-color: #E2EBFA;\n",
              "      --hover-fill-color: #174EA6;\n",
              "      --disabled-fill-color: #AAA;\n",
              "      --disabled-bg-color: #DDD;\n",
              "  }\n",
              "\n",
              "  [theme=dark] .colab-df-quickchart {\n",
              "      --bg-color: #3B4455;\n",
              "      --fill-color: #D2E3FC;\n",
              "      --hover-bg-color: #434B5C;\n",
              "      --hover-fill-color: #FFFFFF;\n",
              "      --disabled-bg-color: #3B4455;\n",
              "      --disabled-fill-color: #666;\n",
              "  }\n",
              "\n",
              "  .colab-df-quickchart {\n",
              "    background-color: var(--bg-color);\n",
              "    border: none;\n",
              "    border-radius: 50%;\n",
              "    cursor: pointer;\n",
              "    display: none;\n",
              "    fill: var(--fill-color);\n",
              "    height: 32px;\n",
              "    padding: 0;\n",
              "    width: 32px;\n",
              "  }\n",
              "\n",
              "  .colab-df-quickchart:hover {\n",
              "    background-color: var(--hover-bg-color);\n",
              "    box-shadow: 0 1px 2px rgba(60, 64, 67, 0.3), 0 1px 3px 1px rgba(60, 64, 67, 0.15);\n",
              "    fill: var(--button-hover-fill-color);\n",
              "  }\n",
              "\n",
              "  .colab-df-quickchart-complete:disabled,\n",
              "  .colab-df-quickchart-complete:disabled:hover {\n",
              "    background-color: var(--disabled-bg-color);\n",
              "    fill: var(--disabled-fill-color);\n",
              "    box-shadow: none;\n",
              "  }\n",
              "\n",
              "  .colab-df-spinner {\n",
              "    border: 2px solid var(--fill-color);\n",
              "    border-color: transparent;\n",
              "    border-bottom-color: var(--fill-color);\n",
              "    animation:\n",
              "      spin 1s steps(1) infinite;\n",
              "  }\n",
              "\n",
              "  @keyframes spin {\n",
              "    0% {\n",
              "      border-color: transparent;\n",
              "      border-bottom-color: var(--fill-color);\n",
              "      border-left-color: var(--fill-color);\n",
              "    }\n",
              "    20% {\n",
              "      border-color: transparent;\n",
              "      border-left-color: var(--fill-color);\n",
              "      border-top-color: var(--fill-color);\n",
              "    }\n",
              "    30% {\n",
              "      border-color: transparent;\n",
              "      border-left-color: var(--fill-color);\n",
              "      border-top-color: var(--fill-color);\n",
              "      border-right-color: var(--fill-color);\n",
              "    }\n",
              "    40% {\n",
              "      border-color: transparent;\n",
              "      border-right-color: var(--fill-color);\n",
              "      border-top-color: var(--fill-color);\n",
              "    }\n",
              "    60% {\n",
              "      border-color: transparent;\n",
              "      border-right-color: var(--fill-color);\n",
              "    }\n",
              "    80% {\n",
              "      border-color: transparent;\n",
              "      border-right-color: var(--fill-color);\n",
              "      border-bottom-color: var(--fill-color);\n",
              "    }\n",
              "    90% {\n",
              "      border-color: transparent;\n",
              "      border-bottom-color: var(--fill-color);\n",
              "    }\n",
              "  }\n",
              "</style>\n",
              "\n",
              "  <script>\n",
              "    async function quickchart(key) {\n",
              "      const quickchartButtonEl =\n",
              "        document.querySelector('#' + key + ' button');\n",
              "      quickchartButtonEl.disabled = true;  // To prevent multiple clicks.\n",
              "      quickchartButtonEl.classList.add('colab-df-spinner');\n",
              "      try {\n",
              "        const charts = await google.colab.kernel.invokeFunction(\n",
              "            'suggestCharts', [key], {});\n",
              "      } catch (error) {\n",
              "        console.error('Error during call to suggestCharts:', error);\n",
              "      }\n",
              "      quickchartButtonEl.classList.remove('colab-df-spinner');\n",
              "      quickchartButtonEl.classList.add('colab-df-quickchart-complete');\n",
              "    }\n",
              "    (() => {\n",
              "      let quickchartButtonEl =\n",
              "        document.querySelector('#df-22359bd5-41b5-4306-953c-f59c5050a9cf button');\n",
              "      quickchartButtonEl.style.display =\n",
              "        google.colab.kernel.accessAllowed ? 'block' : 'none';\n",
              "    })();\n",
              "  </script>\n",
              "</div>\n",
              "\n",
              "  <div id=\"id_9014df4a-8477-47fa-98d5-752ec8c48ff4\">\n",
              "    <style>\n",
              "      .colab-df-generate {\n",
              "        background-color: #E8F0FE;\n",
              "        border: none;\n",
              "        border-radius: 50%;\n",
              "        cursor: pointer;\n",
              "        display: none;\n",
              "        fill: #1967D2;\n",
              "        height: 32px;\n",
              "        padding: 0 0 0 0;\n",
              "        width: 32px;\n",
              "      }\n",
              "\n",
              "      .colab-df-generate:hover {\n",
              "        background-color: #E2EBFA;\n",
              "        box-shadow: 0px 1px 2px rgba(60, 64, 67, 0.3), 0px 1px 3px 1px rgba(60, 64, 67, 0.15);\n",
              "        fill: #174EA6;\n",
              "      }\n",
              "\n",
              "      [theme=dark] .colab-df-generate {\n",
              "        background-color: #3B4455;\n",
              "        fill: #D2E3FC;\n",
              "      }\n",
              "\n",
              "      [theme=dark] .colab-df-generate:hover {\n",
              "        background-color: #434B5C;\n",
              "        box-shadow: 0px 1px 3px 1px rgba(0, 0, 0, 0.15);\n",
              "        filter: drop-shadow(0px 1px 2px rgba(0, 0, 0, 0.3));\n",
              "        fill: #FFFFFF;\n",
              "      }\n",
              "    </style>\n",
              "    <button class=\"colab-df-generate\" onclick=\"generateWithVariable('examples')\"\n",
              "            title=\"Generate code using this dataframe.\"\n",
              "            style=\"display:none;\">\n",
              "\n",
              "  <svg xmlns=\"http://www.w3.org/2000/svg\" height=\"24px\"viewBox=\"0 0 24 24\"\n",
              "       width=\"24px\">\n",
              "    <path d=\"M7,19H8.4L18.45,9,17,7.55,7,17.6ZM5,21V16.75L18.45,3.32a2,2,0,0,1,2.83,0l1.4,1.43a1.91,1.91,0,0,1,.58,1.4,1.91,1.91,0,0,1-.58,1.4L9.25,21ZM18.45,9,17,7.55Zm-12,3A5.31,5.31,0,0,0,4.9,8.1,5.31,5.31,0,0,0,1,6.5,5.31,5.31,0,0,0,4.9,4.9,5.31,5.31,0,0,0,6.5,1,5.31,5.31,0,0,0,8.1,4.9,5.31,5.31,0,0,0,12,6.5,5.46,5.46,0,0,0,6.5,12Z\"/>\n",
              "  </svg>\n",
              "    </button>\n",
              "    <script>\n",
              "      (() => {\n",
              "      const buttonEl =\n",
              "        document.querySelector('#id_9014df4a-8477-47fa-98d5-752ec8c48ff4 button.colab-df-generate');\n",
              "      buttonEl.style.display =\n",
              "        google.colab.kernel.accessAllowed ? 'block' : 'none';\n",
              "\n",
              "      buttonEl.onclick = () => {\n",
              "        google.colab.notebook.generateWithVariable('examples');\n",
              "      }\n",
              "      })();\n",
              "    </script>\n",
              "  </div>\n",
              "\n",
              "    </div>\n",
              "  </div>\n"
            ],
            "application/vnd.google.colaboratory.intrinsic+json": {
              "type": "dataframe",
              "variable_name": "examples",
              "summary": "{\n  \"name\": \"examples\",\n  \"rows\": 5,\n  \"fields\": [\n    {\n      \"column\": \"target_midia\",\n      \"properties\": {\n        \"dtype\": \"string\",\n        \"num_unique_values\": 4,\n        \"samples\": [\n          \"Serie\",\n          \"\",\n          \"Manga\"\n        ],\n        \"semantic_type\": \"\",\n        \"description\": \"\"\n      }\n    },\n    {\n      \"column\": \"reference\",\n      \"properties\": {\n        \"dtype\": \"string\",\n        \"num_unique_values\": 5,\n        \"samples\": [\n          \"O show de truman (Filme)\",\n          \"O lobo de Wallstreet\",\n          \"Blame! (manga)\"\n        ],\n        \"semantic_type\": \"\",\n        \"description\": \"\"\n      }\n    },\n    {\n      \"column\": \"num_resp\",\n      \"properties\": {\n        \"dtype\": \"number\",\n        \"std\": 0,\n        \"min\": 2,\n        \"max\": 4,\n        \"num_unique_values\": 2,\n        \"samples\": [\n          4,\n          2\n        ],\n        \"semantic_type\": \"\",\n        \"description\": \"\"\n      }\n    },\n    {\n      \"column\": \"resultado\",\n      \"properties\": {\n        \"dtype\": \"object\",\n        \"semantic_type\": \"\",\n        \"description\": \"\"\n      }\n    }\n  ]\n}"
            }
          },
          "metadata": {},
          "execution_count": 54
        }
      ]
    },
    {
      "cell_type": "code",
      "source": [
        "def to_markdown(text):\n",
        "  text = text.replace('•', '  *')\n",
        "  return Markdown(textwrap.indent(text, '> '))"
      ],
      "metadata": {
        "id": "YGTJy6TSPDTZ"
      },
      "execution_count": 55,
      "outputs": []
    },
    {
      "cell_type": "code",
      "source": [
        "def print_infos( model_resp ):\n",
        "\n",
        "  #print(model_resp)\n",
        "\n",
        "  filter_resp = model_resp.replace(\"```\", \"\").replace(\"json\", \"\")\n",
        "  filter_resp = json.loads(filter_resp)\n",
        "\n",
        "  #print(filter_resp)\n",
        "\n",
        "  filter_resp = filter_resp[\"resultado\"]\n",
        "\n",
        "  #print(filter_resp)\n",
        "\n",
        "  if isinstance(filter_resp, dict):\n",
        "    if 'error' in filter_resp:\n",
        "      display( to_markdown(\"## Um erro foi identificado :( \"))\n",
        "      display( to_markdown(f\"> {filter_resp['error']}\"))\n",
        "\n",
        "  else:\n",
        "    display(to_markdown(\"## Talvez você goste de : \\n\"))\n",
        "    for content in filter_resp:\n",
        "      for key, value in content.items():\n",
        "        #print(f\"**{key}** : {value}\")\n",
        "        display(to_markdown(f\"**{key}** : {value}\"))\n",
        "      print(\"---\" * 20)"
      ],
      "metadata": {
        "id": "ZyOTkQMHK-7d"
      },
      "execution_count": 56,
      "outputs": []
    },
    {
      "cell_type": "code",
      "source": [
        "def process_data_and_print_response(media_type, reference):\n",
        "  #mas a ideia é recomendar obras diferentes, então priorize obras que não sejam ambientadas no mesmo universo de {reference}.\n",
        "\n",
        "  # send_query_to_search = f\"\"\"\n",
        "  #   Se comporte como se fosse um sistema backend que devolve um json com dados de uma API.\n",
        "  #   Devolva uma lista com 5 {media_type} relacionado a tema de {reference}, pode ser do mesmo universo\n",
        "  #   A resposta deve ser uma lista JSON com os seguintes parametros: ['Nome', 'Ano', 'Sinopse', 'Gemero'].\n",
        "  #   Caso o conteúdo de base não exista ou não seja encontrado devolva um json com uma mensagem explicando o problema e pedindo para o usuário tentar novamente, devolvendo em uma chave error\n",
        "  # \"\"\"\n",
        "\n",
        "  send_query_to_search = f\"\"\"\n",
        "    Tendo como base os exemplos : {examples}, responda como se fosse uma API em JSON para o seguinte caso :\n",
        "\n",
        "    target_midia : {media_type},\n",
        "    reference : {reference},\n",
        "    num_resp : 3,\n",
        "\n",
        "    resultado :\n",
        "  \"\"\"\n",
        "\n",
        "  response = model.generate_content(send_query_to_search)\n",
        "  model_resp = response.text\n",
        "\n",
        "  print_infos( model_resp )\n",
        "\n"
      ],
      "metadata": {
        "id": "PrGSXmjyf_v3"
      },
      "execution_count": 57,
      "outputs": []
    },
    {
      "cell_type": "code",
      "source": [
        "MEDIA_TYPES = [\"Filme\",\"Série\", \"Livro\", \"Manga\", \"Video game\"]"
      ],
      "metadata": {
        "id": "SagjlIQohBwf"
      },
      "execution_count": 22,
      "outputs": []
    },
    {
      "cell_type": "code",
      "source": [
        "print(\"\"\"\n",
        "  Selecione o tipo de mídia :\n",
        "  1. Filme;\n",
        "  2. Série;\n",
        "  3. Livro;\n",
        "  4. Manga;\n",
        "  5. Video game;\n",
        "  \"\"\")\n",
        "\n",
        "index_type = input(\"Selecione valor válido: \")\n",
        "\n",
        "if index_type in (\"1\", \"2\", \"3\", \"4\", \"5\"):\n",
        "\n",
        "  media_reference = input(\"Nome de uma obra que você gostaira de ver mais : \")\n",
        "\n",
        "  process_data_and_print_response( MEDIA_TYPES[int(index_type) - 1], media_reference)"
      ],
      "metadata": {
        "colab": {
          "base_uri": "https://localhost:8080/",
          "height": 705
        },
        "id": "TkqAvQARHQkD",
        "outputId": "24cad319-bfa8-4735-b05a-ffff01d5eed5"
      },
      "execution_count": 58,
      "outputs": [
        {
          "name": "stdout",
          "output_type": "stream",
          "text": [
            "\n",
            "  Selecione o tipo de mídia :\n",
            "  1. Filme;\n",
            "  2. Série;\n",
            "  3. Livro;\n",
            "  4. Manga;\n",
            "  5. Video game;\n",
            "  \n",
            "Selecione valor válido: 2\n",
            "Nome de uma obra que você gostaira de ver mais : Invencivel \n"
          ]
        },
        {
          "output_type": "display_data",
          "data": {
            "text/plain": [
              "<IPython.core.display.Markdown object>"
            ],
            "text/markdown": "> ## Talvez você goste de : \n"
          },
          "metadata": {}
        },
        {
          "output_type": "display_data",
          "data": {
            "text/plain": [
              "<IPython.core.display.Markdown object>"
            ],
            "text/markdown": "> **titulo** : The Boys"
          },
          "metadata": {}
        },
        {
          "output_type": "display_data",
          "data": {
            "text/plain": [
              "<IPython.core.display.Markdown object>"
            ],
            "text/markdown": "> **ano** : 2019-presente"
          },
          "metadata": {}
        },
        {
          "output_type": "display_data",
          "data": {
            "text/plain": [
              "<IPython.core.display.Markdown object>"
            ],
            "text/markdown": "> **genero** : Super-heróis, Ação, Drama"
          },
          "metadata": {}
        },
        {
          "output_type": "display_data",
          "data": {
            "text/plain": [
              "<IPython.core.display.Markdown object>"
            ],
            "text/markdown": "> **plataforma** : Amazon Prime Video"
          },
          "metadata": {}
        },
        {
          "output_type": "stream",
          "name": "stdout",
          "text": [
            "------------------------------------------------------------\n"
          ]
        },
        {
          "output_type": "display_data",
          "data": {
            "text/plain": [
              "<IPython.core.display.Markdown object>"
            ],
            "text/markdown": "> **titulo** : The Umbrella Academy"
          },
          "metadata": {}
        },
        {
          "output_type": "display_data",
          "data": {
            "text/plain": [
              "<IPython.core.display.Markdown object>"
            ],
            "text/markdown": "> **ano** : 2019-presente"
          },
          "metadata": {}
        },
        {
          "output_type": "display_data",
          "data": {
            "text/plain": [
              "<IPython.core.display.Markdown object>"
            ],
            "text/markdown": "> **genero** : Super-heróis, Ação, Comédia"
          },
          "metadata": {}
        },
        {
          "output_type": "display_data",
          "data": {
            "text/plain": [
              "<IPython.core.display.Markdown object>"
            ],
            "text/markdown": "> **plataforma** : Netflix"
          },
          "metadata": {}
        },
        {
          "output_type": "stream",
          "name": "stdout",
          "text": [
            "------------------------------------------------------------\n"
          ]
        },
        {
          "output_type": "display_data",
          "data": {
            "text/plain": [
              "<IPython.core.display.Markdown object>"
            ],
            "text/markdown": "> **titulo** : Peacemaker"
          },
          "metadata": {}
        },
        {
          "output_type": "display_data",
          "data": {
            "text/plain": [
              "<IPython.core.display.Markdown object>"
            ],
            "text/markdown": "> **ano** : 2022-presente"
          },
          "metadata": {}
        },
        {
          "output_type": "display_data",
          "data": {
            "text/plain": [
              "<IPython.core.display.Markdown object>"
            ],
            "text/markdown": "> **genero** : Super-heróis, Ação, Comédia"
          },
          "metadata": {}
        },
        {
          "output_type": "display_data",
          "data": {
            "text/plain": [
              "<IPython.core.display.Markdown object>"
            ],
            "text/markdown": "> **plataforma** : HBO Max"
          },
          "metadata": {}
        },
        {
          "output_type": "stream",
          "name": "stdout",
          "text": [
            "------------------------------------------------------------\n"
          ]
        }
      ]
    }
  ]
}